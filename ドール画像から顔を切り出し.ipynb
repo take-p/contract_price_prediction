{
 "cells": [
  {
   "cell_type": "code",
   "execution_count": 3,
   "metadata": {},
   "outputs": [],
   "source": [
    "import cv2\n",
    "import os\n",
    "import glob\n",
    "import re"
   ]
  },
  {
   "cell_type": "code",
   "execution_count": 9,
   "metadata": {},
   "outputs": [
    {
     "name": "stdout",
     "output_type": "stream",
     "text": [
      "()\n"
     ]
    },
    {
     "data": {
      "text/plain": [
       "True"
      ]
     },
     "execution_count": 9,
     "metadata": {},
     "output_type": "execute_result"
    }
   ],
   "source": [
    "# 顔を切り出し\n",
    "\n",
    "# 特徴量ファイルをもとに分類器を作成\n",
    "classifier = cv2.CascadeClassifier('lbpcascade_animeface.xml')\n",
    "\n",
    "# 顔の検出\n",
    "#image = cv2.imread('image/ddh-01_aucfree_custom_head_only_under_50000/00001000_bff6ee59-407e-4553-bfbb-264782fdbb4c.jpeg')\n",
    "image = cv2.imread('sample/sample.jpg')\n",
    "# グレースケールで処理を高速化\n",
    "gray_image = cv2.cvtColor(image,cv2.COLOR_BGR2GRAY)\n",
    "faces = classifier.detectMultiScale(gray_image)\n",
    "\n",
    "print(faces)\n",
    "\n",
    "# ディレクトリを作成\n",
    "output_dir = 'sample'\n",
    "if not os.path.exists(output_dir):\n",
    "    os.makedirs(output_dir)\n",
    "\n",
    "for i, (x,y,w,h) in enumerate(faces):\n",
    "    # 一人ずつ顔を切り抜く\n",
    "    face_image = image[y:y+h, x:x+w]\n",
    "    output_path = os.path.join(output_dir,'{0}.jpg'.format(i))\n",
    "    cv2.imwrite(output_path,face_image)\n",
    "\n",
    "cv2.imwrite('face.jpg',image)"
   ]
  },
  {
   "cell_type": "code",
   "execution_count": 7,
   "metadata": {
    "scrolled": true
   },
   "outputs": [
    {
     "name": "stdout",
     "output_type": "stream",
     "text": [
      "6\n",
      "image/photo\\1.jpg\n",
      "[[ 199 1086 2588 2588]]\n",
      "image/photo\\2.jpg\n",
      "()\n",
      "image/photo\\3.jpg\n",
      "[[ 133 1020 2675 2675]]\n",
      "image/photo\\4.jpg\n",
      "[[ 408 1106 2334 2334]]\n",
      "image/photo\\5.jpg\n",
      "()\n",
      "image/photo\\face\n"
     ]
    },
    {
     "ename": "error",
     "evalue": "OpenCV(4.1.2) ..\\modules\\imgproc\\src\\color.cpp:182: error: (-215:Assertion failed) !_src.empty() in function 'cv::cvtColor'\n",
     "output_type": "error",
     "traceback": [
      "\u001b[1;31m---------------------------------------------------------------------------\u001b[0m",
      "\u001b[1;31merror\u001b[0m                                     Traceback (most recent call last)",
      "\u001b[1;32m<ipython-input-7-64870e38125b>\u001b[0m in \u001b[0;36m<module>\u001b[1;34m\u001b[0m\n\u001b[0;32m     17\u001b[0m     \u001b[0mimage\u001b[0m \u001b[1;33m=\u001b[0m \u001b[0mcv2\u001b[0m\u001b[1;33m.\u001b[0m\u001b[0mimread\u001b[0m\u001b[1;33m(\u001b[0m\u001b[0mpath\u001b[0m\u001b[1;33m)\u001b[0m\u001b[1;33m\u001b[0m\u001b[1;33m\u001b[0m\u001b[0m\n\u001b[0;32m     18\u001b[0m     \u001b[1;31m# グレースケールで処理を高速化\u001b[0m\u001b[1;33m\u001b[0m\u001b[1;33m\u001b[0m\u001b[1;33m\u001b[0m\u001b[0m\n\u001b[1;32m---> 19\u001b[1;33m     \u001b[0mgray_image\u001b[0m \u001b[1;33m=\u001b[0m \u001b[0mcv2\u001b[0m\u001b[1;33m.\u001b[0m\u001b[0mcvtColor\u001b[0m\u001b[1;33m(\u001b[0m\u001b[0mimage\u001b[0m\u001b[1;33m,\u001b[0m\u001b[0mcv2\u001b[0m\u001b[1;33m.\u001b[0m\u001b[0mCOLOR_BGR2GRAY\u001b[0m\u001b[1;33m)\u001b[0m\u001b[1;33m\u001b[0m\u001b[1;33m\u001b[0m\u001b[0m\n\u001b[0m\u001b[0;32m     20\u001b[0m     \u001b[0mfaces\u001b[0m \u001b[1;33m=\u001b[0m \u001b[0mclassifier\u001b[0m\u001b[1;33m.\u001b[0m\u001b[0mdetectMultiScale\u001b[0m\u001b[1;33m(\u001b[0m\u001b[0mgray_image\u001b[0m\u001b[1;33m)\u001b[0m\u001b[1;33m\u001b[0m\u001b[1;33m\u001b[0m\u001b[0m\n\u001b[0;32m     21\u001b[0m \u001b[1;33m\u001b[0m\u001b[0m\n",
      "\u001b[1;31merror\u001b[0m: OpenCV(4.1.2) ..\\modules\\imgproc\\src\\color.cpp:182: error: (-215:Assertion failed) !_src.empty() in function 'cv::cvtColor'\n"
     ]
    }
   ],
   "source": [
    "img_path_list = glob.glob('image/photo/*')\n",
    "print(len(img_path_list))\n",
    "\n",
    "count = 0\n",
    "\n",
    "#for path, i in zip(img_path_list, range(len(img_path_list))):\n",
    "for path in img_path_list:\n",
    "    print(path)\n",
    "    file_name = re.search(r'[0-9]{8}.*', path).group()\n",
    "    #file_name = str(i+1)+'.jpg'\n",
    "    # 顔を切り出し\n",
    "\n",
    "    # 特徴量ファイルをもとに分類器を作成\n",
    "    classifier = cv2.CascadeClassifier('lbpcascade_animeface.xml')\n",
    "\n",
    "    # 顔の検出\n",
    "    #image = cv2.imread('image/ddh-01_aucfree_custom_head_only_under_50000/00001000_bff6ee59-407e-4553-bfbb-264782fdbb4c.jpeg')\n",
    "    image = cv2.imread(path)\n",
    "    # グレースケールで処理を高速化\n",
    "    gray_image = cv2.cvtColor(image,cv2.COLOR_BGR2GRAY)\n",
    "    faces = classifier.detectMultiScale(gray_image)\n",
    "\n",
    "    print(faces)\n",
    "\n",
    "    # ディレクトリを作成\n",
    "    output_dir = 'image/photo/face'\n",
    "    if not os.path.exists(output_dir):\n",
    "        os.makedirs(output_dir)\n",
    "\n",
    "    for i, (x,y,w,h) in enumerate(faces):\n",
    "        count += 1\n",
    "        \n",
    "        # 一人ずつ顔を切り抜く\n",
    "        face_image = image[y:y+h, x:x+w]\n",
    "        output_path = os.path.join(output_dir+\"\\\\\"+file_name)\n",
    "        cv2.imwrite(output_path,face_image)\n",
    "\n",
    "    cv2.imwrite('face.jpg',image)"
   ]
  },
  {
   "cell_type": "code",
   "execution_count": 38,
   "metadata": {},
   "outputs": [
    {
     "name": "stdout",
     "output_type": "stream",
     "text": [
      "0.8361812778603269\n"
     ]
    }
   ],
   "source": [
    "print(count / len(img_path_list))"
   ]
  },
  {
   "cell_type": "code",
   "execution_count": null,
   "metadata": {},
   "outputs": [],
   "source": []
  }
 ],
 "metadata": {
  "kernelspec": {
   "display_name": "Python 3",
   "language": "python",
   "name": "python3"
  },
  "language_info": {
   "codemirror_mode": {
    "name": "ipython",
    "version": 3
   },
   "file_extension": ".py",
   "mimetype": "text/x-python",
   "name": "python",
   "nbconvert_exporter": "python",
   "pygments_lexer": "ipython3",
   "version": "3.7.3"
  }
 },
 "nbformat": 4,
 "nbformat_minor": 2
}
