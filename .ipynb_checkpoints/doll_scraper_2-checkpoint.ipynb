{
 "cells": [
  {
   "cell_type": "markdown",
   "metadata": {},
   "source": [
    "# 複数の画像を取得してフォルダに入れるプログラム"
   ]
  },
  {
   "cell_type": "code",
   "execution_count": 1,
   "metadata": {},
   "outputs": [],
   "source": [
    "import requests\n",
    "from bs4 import BeautifulSoup\n",
    "import time\n",
    "import random\n",
    "import lxml\n",
    "import uuid\n",
    "import json\n",
    "import os"
   ]
  },
  {
   "cell_type": "code",
   "execution_count": 2,
   "metadata": {},
   "outputs": [],
   "source": [
    "session = requests.session()\n",
    "headers = {\n",
    "    'User-Agent': 'Mozilla/5.0 (Windows NT 10.0; Win64; x64) AppleWebKit/537.36 (KHTML, like Gecko) Chrome/76.0.3809.132 Safari/537.36 (take1234567890lab@gmail.com)',\n",
    "    'Accept-Language': 'ja,en-US;q=0.9,en;q=0.8',\n",
    "}\n",
    "url = \"https://scrape.turai.work/\"\n",
    "req = session.get(url, headers = headers) # 取得\n",
    "soup = BeautifulSoup(req.text, 'lxml') # 変換\n",
    "#products = soup.find_all('li', class_='Product')"
   ]
  },
  {
   "cell_type": "code",
   "execution_count": 3,
   "metadata": {},
   "outputs": [
    {
     "name": "stdout",
     "output_type": "stream",
     "text": [
      "{\n",
      "  \"ua\": {\n",
      "    \"name\": \"User-Agent\",\n",
      "    \"status\": \"OK\",\n",
      "    \"value\": \"Mozilla/5.0 (Windows NT 10.0; Win64; x64) AppleWebKit/537.36 (KHTML, like Gecko) Chrome/76.0.3809.132 Safari/537.36 (take1234567890lab@gmail.com)\"\n",
      "  },\n",
      "  \"accept_language\": {\n",
      "    \"name\": \"Accept-Language\",\n",
      "    \"status\": \"OK\",\n",
      "    \"value\": \"ja,en-US;q=0.9,en;q=0.8\"\n",
      "  },\n",
      "  \"remote_host\": {\n",
      "    \"name\": \"Remote-Host\",\n",
      "    \"status\": \"NG\",\n",
      "    \"value\": \"localhost\"\n",
      "  }\n",
      "}\n"
     ]
    }
   ],
   "source": [
    "data = json.loads(soup.string)\n",
    "print(json.dumps(data, indent=2))"
   ]
  },
  {
   "cell_type": "code",
   "execution_count": 4,
   "metadata": {},
   "outputs": [],
   "source": [
    "def random_sleep(t, t2):\n",
    "    sleep_time = t+(t2*random.random())\n",
    "    print('\\n', sleep_time, '秒スリープ -> ', end='')\n",
    "    time.sleep(sleep_time) # サーバーに負担をかけないために間隔をあける\n",
    "    print('復帰')"
   ]
  },
  {
   "cell_type": "code",
   "execution_count": 5,
   "metadata": {},
   "outputs": [],
   "source": [
    "def get_image(image, target_path, header):\n",
    "    # サムネイル画像を取得\n",
    "    img_url = image.get('data-src-original')\n",
    "    \n",
    "    # https://aucfree.comとhttps://img.aucfree.comが付属していないか？\n",
    "    #if 'https://aucfree.com' not in img_url and 'https://img.aucfree.com' not in img_url:\n",
    "    if 'http' not in img_url and 'HTTP' not in img_url:\n",
    "        img_url = 'https://aucfree.com' + img_url # 付属していなければ挿入\n",
    "    \n",
    "    print('\\n画像URL', img_url)\n",
    "    \n",
    "    # jpegでなければ排除？\n",
    "    if '.jpg' not in img_url:\n",
    "        return\n",
    "    \n",
    "    start = time.time()\n",
    "    try:\n",
    "        r = session.get(img_url)\n",
    "    except:\n",
    "        return\n",
    "    elapsed_time = time.time() - start\n",
    "    print(\"ダウンロード時間:{0}\".format(elapsed_time) + \"[sec]\")\n",
    "    \n",
    "    # jpegではない可能性?\n",
    "    with open(target_path + header + price.zfill(8) + '_' +str(uuid.uuid4())+str('.jpeg'), 'wb') as file:\n",
    "        file.write(r.content)\n",
    "                \n",
    "    random_sleep(1, 1)\n",
    "    \n",
    "    # 時々休憩(10回に1回ほど)\n",
    "    #if (random.random() > 0.9):\n",
    "    #    random_sleep(30, 30)\n",
    "    \n",
    "    # 時々長期休憩(100回に1回ほど)\n",
    "    #if (random.random() > 0.99):\n",
    "    #    random_sleep(60, 120)"
   ]
  },
  {
   "cell_type": "code",
   "execution_count": 6,
   "metadata": {},
   "outputs": [],
   "source": [
    "TARGET_PATH = './image/ddh-10_aucfree/'"
   ]
  },
  {
   "cell_type": "code",
   "execution_count": null,
   "metadata": {
    "scrolled": true
   },
   "outputs": [],
   "source": [
    "# 各ページの商品データを取得\n",
    "for i in range(1, 2):# 150\n",
    "    print('\\n', i, 'ページ目')\n",
    "    \n",
    "    # ●非常に重要！！\n",
    "    #url = \"https://aucfree.com/search?from=2015-06&o=t2&p=\"+str(i)+\"&q=ddh-01&to=2019-09\"\n",
    "    url = \"https://aucfree.com/search?from=2015-06&o=t2&p=\"+str(i)+\"&q=ddh-10&to=2019-11\"\n",
    "    \n",
    "    req = session.get(url, headers = headers) # データを取得\n",
    "    soup = BeautifulSoup(req.text, 'lxml') # 変換\n",
    "    \n",
    "    #products = soup.find_all('a', class_='item_title') # 商品情報を取得\n",
    "    products = soup.find_all('a', class_='item_price')\n",
    "    \n",
    "    # 各商品の画像データを取得\n",
    "    for product in products[0:1]:# ●確認せよ！\n",
    "        print('\\n商品URL', 'https://aucfree.com'+product.get('href')) # URL\n",
    "        price = product.text\n",
    "        price = price.replace('円', '').replace(',', '')\n",
    "        print('価格', price) # 価格\n",
    "    \n",
    "        # 各商品ページへ移動\n",
    "        url2 = \"https://aucfree.com\" + product.get('href')\n",
    "        req2 = session.get(url2, headers = headers)\n",
    "        soup2 = BeautifulSoup(req2.text, 'lxml')\n",
    "        images = soup2.find_all('img', class_='item_img') # 画像のURL\n",
    "        \n",
    "        # フォルダを作成\n",
    "        new_dir = TARGET_PATH + price.zfill(8) + '_' + str(uuid.uuid4()) + '/'\n",
    "        #print(new_dir)\n",
    "        os.mkdir(new_dir)\n",
    "        \n",
    "        # サムネイル画像を取得\n",
    "        get_image(images[0], new_dir, '0_')\n",
    "        \n",
    "        # 各画像を取得（最初の画像はサムネイルと同じのため除外）\n",
    "        if len(images) > 2:\n",
    "            for image, i in zip(images[2:], range(len(images[2:]))):\n",
    "                #print(i)\n",
    "                get_image(image, new_dir, str(i+1)+'_')\n",
    "        \n",
    "        # 商品説明の画像も取得\n",
    "        images2 = soup2.find(id='item_desc')\n",
    "        images2 = images2.find_all('img', class_='thumbnail')\n",
    "        #print(images2)\n",
    "        \n",
    "        for image, i in zip(images2, range(len(images2))):\n",
    "            #print(image)\n",
    "            get_image(image, new_dir, str(i+len(images)-1)+'_')\n",
    "        \n",
    "        # 次の商品に移動する前に休憩\n",
    "        random_sleep(2, 1)\n",
    "        \n",
    "    # 次のページに移動する前に休憩\n",
    "    random_sleep(60, 240)"
   ]
  },
  {
   "cell_type": "code",
   "execution_count": null,
   "metadata": {},
   "outputs": [],
   "source": []
  },
  {
   "cell_type": "code",
   "execution_count": null,
   "metadata": {},
   "outputs": [],
   "source": []
  }
 ],
 "metadata": {
  "kernelspec": {
   "display_name": "Python 3",
   "language": "python",
   "name": "python3"
  },
  "language_info": {
   "codemirror_mode": {
    "name": "ipython",
    "version": 3
   },
   "file_extension": ".py",
   "mimetype": "text/x-python",
   "name": "python",
   "nbconvert_exporter": "python",
   "pygments_lexer": "ipython3",
   "version": "3.7.3"
  }
 },
 "nbformat": 4,
 "nbformat_minor": 2
}
