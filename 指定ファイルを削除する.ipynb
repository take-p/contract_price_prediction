{
 "cells": [
  {
   "cell_type": "code",
   "execution_count": 6,
   "metadata": {},
   "outputs": [],
   "source": [
    "# Keras\n",
    "from keras.models import Sequential, load_model\n",
    "from keras.layers import Dense, Activation, Dropout\n",
    "from keras.callbacks import EarlyStopping\n",
    "from keras.optimizers import SGD # 確率的勾配降下法\n",
    "\n",
    "from keras.initializers import glorot_uniform, orthogonal, TruncatedNormal # 初期化\n",
    "from keras.preprocessing.image import load_img, array_to_img, img_to_array # 画像の取り扱い\n",
    "from keras.utils import np_utils, plot_model # ?\n",
    "\n",
    "from keras.layers import Conv2D, MaxPooling2D, Flatten\n",
    "from keras.applications.vgg16 import VGG16\n",
    "from keras.applications.vgg19 import VGG19\n",
    "from keras.applications.resnet50 import ResNet50\n",
    "from keras.applications.inception_resnet_v2 import InceptionResNetV2\n",
    "\n",
    "from keras.layers import LSTM\n",
    "from keras.layers.recurrent import GRU, SimpleRNN\n",
    "\n",
    "\n",
    "import pandas as pd #行列計算\n",
    "import numpy as np #行列計算\n",
    "import math #数値計算\n",
    "import itertools #順列・組み合わせ\n",
    "\n",
    "import matplotlib.pyplot as plt #グラフ\n",
    "import seaborn as sns\n",
    "\n",
    "from datetime import datetime, timedelta\n",
    "import mpl_finance as mpf\n",
    "import talib as ta # テクニカル指標\n",
    "\n",
    "from sklearn.model_selection import train_test_split, GridSearchCV\n",
    "\n",
    "from sklearn.ensemble import RandomForestRegressor, VotingClassifier\n",
    "\n",
    "# GBDT\n",
    "from xgboost import XGBRegressor\n",
    "from lightgbm import LGBMRegressor\n",
    "#from catboost import CatBoostClassifier, Pool\n",
    "\n",
    "# フォント\n",
    "import matplotlib.font_manager as fm\n",
    "from matplotlib import rcParams\n",
    "\n",
    "from PIL import Image, ImageFilter\n",
    "import glob\n",
    "import re\n",
    "import gc\n",
    "import os\n",
    "\n",
    "import threading\n",
    "import multiprocessing\n",
    "from concurrent.futures import ThreadPoolExecutor, ProcessPoolExecutor"
   ]
  },
  {
   "cell_type": "code",
   "execution_count": 51,
   "metadata": {
    "scrolled": true
   },
   "outputs": [
    {
     "name": "stdout",
     "output_type": "stream",
     "text": [
      "削除\n",
      "削除\n",
      "削除\n",
      "削除\n"
     ]
    }
   ],
   "source": [
    "\n",
    "dir_path_list = glob.glob('image/ddh-01_aucfree_full/*')\n",
    "\n",
    "# 空のディレクトリを削除\n",
    "\"\"\"\n",
    "for path in dir_path_list:\n",
    "    try:\n",
    "        os.rmdir(path)\n",
    "    except:\n",
    "        pass\n",
    "\"\"\"\n",
    "\n",
    "# 破損したファイルを削除\n",
    "\"\"\"\n",
    "for dir_path in dir_path_list:\n",
    "    img_path_list = glob.glob(dir_path+'/*')\n",
    "    for file_path in img_path_list:\n",
    "        print(file_path)\n",
    "        try:\n",
    "            img = Image.open(file_path) # 開いて\n",
    "        except:\n",
    "            #print('削除')\n",
    "            os.remove(file_path)\n",
    "\"\"\"\n",
    "\n",
    "#\"\"\"\n",
    "for dir_path in dir_path_list:\n",
    "    img_path_list = glob.glob(dir_path+'/*')\n",
    "    for file_path in img_path_list:\n",
    "        #print(file_path)\n",
    "        img = Image.open(file_path) # 開いて\n",
    "        img2 = Image.open('image/delete6.jpeg')\n",
    "        if img == img2:\n",
    "            print('削除')\n",
    "            end_flag = False\n",
    "            os.remove(file_path)\n",
    "#\"\"\"\n",
    "\n"
   ]
  },
  {
   "cell_type": "code",
   "execution_count": null,
   "metadata": {},
   "outputs": [],
   "source": []
  },
  {
   "cell_type": "code",
   "execution_count": null,
   "metadata": {},
   "outputs": [],
   "source": []
  }
 ],
 "metadata": {
  "kernelspec": {
   "display_name": "Python 3",
   "language": "python",
   "name": "python3"
  },
  "language_info": {
   "codemirror_mode": {
    "name": "ipython",
    "version": 3
   },
   "file_extension": ".py",
   "mimetype": "text/x-python",
   "name": "python",
   "nbconvert_exporter": "python",
   "pygments_lexer": "ipython3",
   "version": "3.7.3"
  }
 },
 "nbformat": 4,
 "nbformat_minor": 2
}
